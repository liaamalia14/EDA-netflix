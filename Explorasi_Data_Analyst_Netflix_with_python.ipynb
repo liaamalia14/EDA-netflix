{
  "nbformat": 4,
  "nbformat_minor": 0,
  "metadata": {
    "colab": {
      "provenance": []
    },
    "kernelspec": {
      "name": "python3",
      "display_name": "Python 3"
    },
    "language_info": {
      "name": "python"
    }
  },
  "cells": [
    {
      "cell_type": "code",
      "execution_count": null,
      "metadata": {
        "colab": {
          "base_uri": "https://localhost:8080/"
        },
        "id": "_5LsX_vGpxip",
        "outputId": "85ac0921-95a6-4173-af3d-77c2575113e2"
      },
      "outputs": [
        {
          "output_type": "stream",
          "name": "stdout",
          "text": [
            "hello word\n"
          ]
        }
      ],
      "source": [
        "print (\"hello word\")"
      ]
    },
    {
      "cell_type": "code",
      "source": [
        "# Mount google drive\n",
        "from google.colab import drive\n",
        "drive.mount('/content/gdrive')"
      ],
      "metadata": {
        "colab": {
          "base_uri": "https://localhost:8080/"
        },
        "id": "3tDWZaAOYVao",
        "outputId": "d012fe3a-4770-4e8e-b9ac-c6b1a1b88e35"
      },
      "execution_count": 5,
      "outputs": [
        {
          "output_type": "stream",
          "name": "stdout",
          "text": [
            "Drive already mounted at /content/gdrive; to attempt to forcibly remount, call drive.mount(\"/content/gdrive\", force_remount=True).\n"
          ]
        }
      ]
    },
    {
      "cell_type": "code",
      "source": [
        "# Import libraries\n",
        "import numpy as np\n",
        "import pandas as pd\n",
        "import seaborn as sns\n",
        "import matplotlib.pyplot as plt"
      ],
      "metadata": {
        "id": "mudSA4COqAyk"
      },
      "execution_count": 13,
      "outputs": []
    },
    {
      "cell_type": "code",
      "source": [
        "data = pd.read_csv('/content/gdrive/MyDrive/DATA SET/n_movies.csv')"
      ],
      "metadata": {
        "id": "Yu0ja2l8nTBg"
      },
      "execution_count": 9,
      "outputs": []
    },
    {
      "cell_type": "markdown",
      "source": [
        "**1. Missing Value Check and Handling**"
      ],
      "metadata": {
        "id": "iRhktwROq-sV"
      }
    },
    {
      "cell_type": "code",
      "source": [
        "data.info () "
      ],
      "metadata": {
        "colab": {
          "base_uri": "https://localhost:8080/"
        },
        "id": "BbmAwgugtgGc",
        "outputId": "45d41a01-1146-4917-b45a-dbc462196c28"
      },
      "execution_count": 15,
      "outputs": [
        {
          "output_type": "stream",
          "name": "stdout",
          "text": [
            "<class 'pandas.core.frame.DataFrame'>\n",
            "RangeIndex: 9957 entries, 0 to 9956\n",
            "Data columns (total 9 columns):\n",
            " #   Column       Non-Null Count  Dtype  \n",
            "---  ------       --------------  -----  \n",
            " 0   title        9957 non-null   object \n",
            " 1   year         9430 non-null   object \n",
            " 2   certificate  6504 non-null   object \n",
            " 3   duration     7921 non-null   object \n",
            " 4   genre        9884 non-null   object \n",
            " 5   rating       8784 non-null   float64\n",
            " 6   description  9957 non-null   object \n",
            " 7   stars        9957 non-null   object \n",
            " 8   votes        8784 non-null   object \n",
            "dtypes: float64(1), object(8)\n",
            "memory usage: 700.2+ KB\n"
          ]
        }
      ]
    },
    {
      "cell_type": "markdown",
      "source": [
        "Raw Data have 9 columns and 9957 row\n",
        "all the data except title, description, stars have \"missing values\""
      ],
      "metadata": {
        "id": "2eLitT1Zv9ev"
      }
    },
    {
      "cell_type": "code",
      "source": [
        "# number of missing values per column\n",
        "data.isna().sum()"
      ],
      "metadata": {
        "colab": {
          "base_uri": "https://localhost:8080/"
        },
        "id": "262F6QlYxb5o",
        "outputId": "7380c650-46a7-4c20-d4e1-110eca4e4ddf"
      },
      "execution_count": 16,
      "outputs": [
        {
          "output_type": "execute_result",
          "data": {
            "text/plain": [
              "title             0\n",
              "year            527\n",
              "certificate    3453\n",
              "duration       2036\n",
              "genre            73\n",
              "rating         1173\n",
              "description       0\n",
              "stars             0\n",
              "votes          1173\n",
              "dtype: int64"
            ]
          },
          "metadata": {},
          "execution_count": 16
        }
      ]
    },
    {
      "cell_type": "code",
      "source": [
        "# drop missing values\n",
        "data = data.dropna()"
      ],
      "metadata": {
        "id": "kwA7XboCxlx7"
      },
      "execution_count": 18,
      "outputs": []
    },
    {
      "cell_type": "code",
      "source": [
        "# check missing values\n",
        "data.isna().sum()"
      ],
      "metadata": {
        "colab": {
          "base_uri": "https://localhost:8080/"
        },
        "id": "oG_tkb_-xr1W",
        "outputId": "5dc71da6-e187-4e8d-859a-51b07d280f3b"
      },
      "execution_count": 19,
      "outputs": [
        {
          "output_type": "execute_result",
          "data": {
            "text/plain": [
              "title          0\n",
              "year           0\n",
              "certificate    0\n",
              "duration       0\n",
              "genre          0\n",
              "rating         0\n",
              "description    0\n",
              "stars          0\n",
              "votes          0\n",
              "dtype: int64"
            ]
          },
          "metadata": {},
          "execution_count": 19
        }
      ]
    },
    {
      "cell_type": "markdown",
      "source": [
        "Data already to use, Done! There's no more missing values"
      ],
      "metadata": {
        "id": "vbJQXwErxwHY"
      }
    },
    {
      "cell_type": "markdown",
      "source": [
        "**2. Duplicate check simple**"
      ],
      "metadata": {
        "id": "1gU0A6xSx6ED"
      }
    },
    {
      "cell_type": "code",
      "source": [
        "# number of duplicated data\n",
        "data.duplicated().sum()"
      ],
      "metadata": {
        "colab": {
          "base_uri": "https://localhost:8080/"
        },
        "id": "3dn5qlnAx4_X",
        "outputId": "dddf71a3-9bc8-4c83-a91a-86087841119f"
      },
      "execution_count": 21,
      "outputs": [
        {
          "output_type": "execute_result",
          "data": {
            "text/plain": [
              "0"
            ]
          },
          "metadata": {},
          "execution_count": 21
        }
      ]
    },
    {
      "cell_type": "code",
      "source": [
        "data.head ()"
      ],
      "metadata": {
        "colab": {
          "base_uri": "https://localhost:8080/",
          "height": 250
        },
        "id": "F_D_ca7nGqz5",
        "outputId": "a584d67a-f4b7-4e1b-e68e-d2cfab6d545c"
      },
      "execution_count": 22,
      "outputs": [
        {
          "output_type": "execute_result",
          "data": {
            "text/plain": [
              "                    title         year certificate duration  \\\n",
              "0               Cobra Kai     (2018– )       TV-14   30 min   \n",
              "1               The Crown     (2016– )       TV-MA   58 min   \n",
              "2        Better Call Saul  (2015–2022)       TV-MA   46 min   \n",
              "3           Devil in Ohio       (2022)       TV-MA  356 min   \n",
              "4  Cyberpunk: Edgerunners     (2022– )       TV-MA   24 min   \n",
              "\n",
              "                          genre  rating  \\\n",
              "0         Action, Comedy, Drama     8.5   \n",
              "1     Biography, Drama, History     8.7   \n",
              "2                  Crime, Drama     8.9   \n",
              "3        Drama, Horror, Mystery     5.9   \n",
              "4  Animation, Action, Adventure     8.6   \n",
              "\n",
              "                                         description  \\\n",
              "0  Decades after their 1984 All Valley Karate Tou...   \n",
              "1  Follows the political rivalries and romance of...   \n",
              "2  The trials and tribulations of criminal lawyer...   \n",
              "3  When a psychiatrist shelters a mysterious cult...   \n",
              "4  A Street Kid trying to survive in a technology...   \n",
              "\n",
              "                                               stars    votes  \n",
              "0  ['Ralph Macchio, ', 'William Zabka, ', 'Courtn...  177,031  \n",
              "1  ['Claire Foy, ', 'Olivia Colman, ', 'Imelda St...  199,885  \n",
              "2  ['Bob Odenkirk, ', 'Rhea Seehorn, ', 'Jonathan...  501,384  \n",
              "3  ['Emily Deschanel, ', 'Sam Jaeger, ', 'Gerardo...    9,773  \n",
              "4  ['Zach Aguilar, ', 'Kenichiro Ohashi, ', 'Emi ...   15,413  "
            ],
            "text/html": [
              "\n",
              "  <div id=\"df-c9b64357-18f6-4081-937c-16d3af2dd367\">\n",
              "    <div class=\"colab-df-container\">\n",
              "      <div>\n",
              "<style scoped>\n",
              "    .dataframe tbody tr th:only-of-type {\n",
              "        vertical-align: middle;\n",
              "    }\n",
              "\n",
              "    .dataframe tbody tr th {\n",
              "        vertical-align: top;\n",
              "    }\n",
              "\n",
              "    .dataframe thead th {\n",
              "        text-align: right;\n",
              "    }\n",
              "</style>\n",
              "<table border=\"1\" class=\"dataframe\">\n",
              "  <thead>\n",
              "    <tr style=\"text-align: right;\">\n",
              "      <th></th>\n",
              "      <th>title</th>\n",
              "      <th>year</th>\n",
              "      <th>certificate</th>\n",
              "      <th>duration</th>\n",
              "      <th>genre</th>\n",
              "      <th>rating</th>\n",
              "      <th>description</th>\n",
              "      <th>stars</th>\n",
              "      <th>votes</th>\n",
              "    </tr>\n",
              "  </thead>\n",
              "  <tbody>\n",
              "    <tr>\n",
              "      <th>0</th>\n",
              "      <td>Cobra Kai</td>\n",
              "      <td>(2018– )</td>\n",
              "      <td>TV-14</td>\n",
              "      <td>30 min</td>\n",
              "      <td>Action, Comedy, Drama</td>\n",
              "      <td>8.5</td>\n",
              "      <td>Decades after their 1984 All Valley Karate Tou...</td>\n",
              "      <td>['Ralph Macchio, ', 'William Zabka, ', 'Courtn...</td>\n",
              "      <td>177,031</td>\n",
              "    </tr>\n",
              "    <tr>\n",
              "      <th>1</th>\n",
              "      <td>The Crown</td>\n",
              "      <td>(2016– )</td>\n",
              "      <td>TV-MA</td>\n",
              "      <td>58 min</td>\n",
              "      <td>Biography, Drama, History</td>\n",
              "      <td>8.7</td>\n",
              "      <td>Follows the political rivalries and romance of...</td>\n",
              "      <td>['Claire Foy, ', 'Olivia Colman, ', 'Imelda St...</td>\n",
              "      <td>199,885</td>\n",
              "    </tr>\n",
              "    <tr>\n",
              "      <th>2</th>\n",
              "      <td>Better Call Saul</td>\n",
              "      <td>(2015–2022)</td>\n",
              "      <td>TV-MA</td>\n",
              "      <td>46 min</td>\n",
              "      <td>Crime, Drama</td>\n",
              "      <td>8.9</td>\n",
              "      <td>The trials and tribulations of criminal lawyer...</td>\n",
              "      <td>['Bob Odenkirk, ', 'Rhea Seehorn, ', 'Jonathan...</td>\n",
              "      <td>501,384</td>\n",
              "    </tr>\n",
              "    <tr>\n",
              "      <th>3</th>\n",
              "      <td>Devil in Ohio</td>\n",
              "      <td>(2022)</td>\n",
              "      <td>TV-MA</td>\n",
              "      <td>356 min</td>\n",
              "      <td>Drama, Horror, Mystery</td>\n",
              "      <td>5.9</td>\n",
              "      <td>When a psychiatrist shelters a mysterious cult...</td>\n",
              "      <td>['Emily Deschanel, ', 'Sam Jaeger, ', 'Gerardo...</td>\n",
              "      <td>9,773</td>\n",
              "    </tr>\n",
              "    <tr>\n",
              "      <th>4</th>\n",
              "      <td>Cyberpunk: Edgerunners</td>\n",
              "      <td>(2022– )</td>\n",
              "      <td>TV-MA</td>\n",
              "      <td>24 min</td>\n",
              "      <td>Animation, Action, Adventure</td>\n",
              "      <td>8.6</td>\n",
              "      <td>A Street Kid trying to survive in a technology...</td>\n",
              "      <td>['Zach Aguilar, ', 'Kenichiro Ohashi, ', 'Emi ...</td>\n",
              "      <td>15,413</td>\n",
              "    </tr>\n",
              "  </tbody>\n",
              "</table>\n",
              "</div>\n",
              "      <button class=\"colab-df-convert\" onclick=\"convertToInteractive('df-c9b64357-18f6-4081-937c-16d3af2dd367')\"\n",
              "              title=\"Convert this dataframe to an interactive table.\"\n",
              "              style=\"display:none;\">\n",
              "        \n",
              "  <svg xmlns=\"http://www.w3.org/2000/svg\" height=\"24px\"viewBox=\"0 0 24 24\"\n",
              "       width=\"24px\">\n",
              "    <path d=\"M0 0h24v24H0V0z\" fill=\"none\"/>\n",
              "    <path d=\"M18.56 5.44l.94 2.06.94-2.06 2.06-.94-2.06-.94-.94-2.06-.94 2.06-2.06.94zm-11 1L8.5 8.5l.94-2.06 2.06-.94-2.06-.94L8.5 2.5l-.94 2.06-2.06.94zm10 10l.94 2.06.94-2.06 2.06-.94-2.06-.94-.94-2.06-.94 2.06-2.06.94z\"/><path d=\"M17.41 7.96l-1.37-1.37c-.4-.4-.92-.59-1.43-.59-.52 0-1.04.2-1.43.59L10.3 9.45l-7.72 7.72c-.78.78-.78 2.05 0 2.83L4 21.41c.39.39.9.59 1.41.59.51 0 1.02-.2 1.41-.59l7.78-7.78 2.81-2.81c.8-.78.8-2.07 0-2.86zM5.41 20L4 18.59l7.72-7.72 1.47 1.35L5.41 20z\"/>\n",
              "  </svg>\n",
              "      </button>\n",
              "      \n",
              "  <style>\n",
              "    .colab-df-container {\n",
              "      display:flex;\n",
              "      flex-wrap:wrap;\n",
              "      gap: 12px;\n",
              "    }\n",
              "\n",
              "    .colab-df-convert {\n",
              "      background-color: #E8F0FE;\n",
              "      border: none;\n",
              "      border-radius: 50%;\n",
              "      cursor: pointer;\n",
              "      display: none;\n",
              "      fill: #1967D2;\n",
              "      height: 32px;\n",
              "      padding: 0 0 0 0;\n",
              "      width: 32px;\n",
              "    }\n",
              "\n",
              "    .colab-df-convert:hover {\n",
              "      background-color: #E2EBFA;\n",
              "      box-shadow: 0px 1px 2px rgba(60, 64, 67, 0.3), 0px 1px 3px 1px rgba(60, 64, 67, 0.15);\n",
              "      fill: #174EA6;\n",
              "    }\n",
              "\n",
              "    [theme=dark] .colab-df-convert {\n",
              "      background-color: #3B4455;\n",
              "      fill: #D2E3FC;\n",
              "    }\n",
              "\n",
              "    [theme=dark] .colab-df-convert:hover {\n",
              "      background-color: #434B5C;\n",
              "      box-shadow: 0px 1px 3px 1px rgba(0, 0, 0, 0.15);\n",
              "      filter: drop-shadow(0px 1px 2px rgba(0, 0, 0, 0.3));\n",
              "      fill: #FFFFFF;\n",
              "    }\n",
              "  </style>\n",
              "\n",
              "      <script>\n",
              "        const buttonEl =\n",
              "          document.querySelector('#df-c9b64357-18f6-4081-937c-16d3af2dd367 button.colab-df-convert');\n",
              "        buttonEl.style.display =\n",
              "          google.colab.kernel.accessAllowed ? 'block' : 'none';\n",
              "\n",
              "        async function convertToInteractive(key) {\n",
              "          const element = document.querySelector('#df-c9b64357-18f6-4081-937c-16d3af2dd367');\n",
              "          const dataTable =\n",
              "            await google.colab.kernel.invokeFunction('convertToInteractive',\n",
              "                                                     [key], {});\n",
              "          if (!dataTable) return;\n",
              "\n",
              "          const docLinkHtml = 'Like what you see? Visit the ' +\n",
              "            '<a target=\"_blank\" href=https://colab.research.google.com/notebooks/data_table.ipynb>data table notebook</a>'\n",
              "            + ' to learn more about interactive tables.';\n",
              "          element.innerHTML = '';\n",
              "          dataTable['output_type'] = 'display_data';\n",
              "          await google.colab.output.renderOutput(dataTable, element);\n",
              "          const docLink = document.createElement('div');\n",
              "          docLink.innerHTML = docLinkHtml;\n",
              "          element.appendChild(docLink);\n",
              "        }\n",
              "      </script>\n",
              "    </div>\n",
              "  </div>\n",
              "  "
            ]
          },
          "metadata": {},
          "execution_count": 22
        }
      ]
    }
  ]
}